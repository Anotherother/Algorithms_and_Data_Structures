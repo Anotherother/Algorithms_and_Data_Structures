{
 "cells": [
  {
   "cell_type": "code",
   "execution_count": 1,
   "metadata": {
    "collapsed": false
   },
   "outputs": [],
   "source": [
    "import numpy as np"
   ]
  },
  {
   "cell_type": "code",
   "execution_count": 2,
   "metadata": {
    "collapsed": false
   },
   "outputs": [
    {
     "data": {
      "text/plain": [
       "array([ 1,  2,  3,  4,  5,  6,  8, 12])"
      ]
     },
     "execution_count": 2,
     "metadata": {},
     "output_type": "execute_result"
    }
   ],
   "source": [
    "\"\"\"\n",
    "##\n",
    "Algorithm insert sort (low to high values)\n",
    "##\n",
    "\"\"\"\n",
    "\n",
    "A = np.array([5,2,12,4,8, 6,1,3])\n",
    "\n",
    "for j in range(1, len(A)):\n",
    "    key = A[j]   # value, which we will be replace \n",
    "    i = j - 1 # iter for compare vith previos values and shifting\n",
    "    while (i >= 0 and A[i] > key): # if previos value less key\n",
    "        A[i+1] = A[i] # next (key position) = previos value\n",
    "        i = i - 1 # and increment iter        \n",
    "    A[i+1] = key # in the end this cicle operation initialise next value as key\n",
    "    \n",
    "A  "
   ]
  },
  {
   "cell_type": "code",
   "execution_count": 3,
   "metadata": {
    "collapsed": false
   },
   "outputs": [
    {
     "name": "stdout",
     "output_type": "stream",
     "text": [
      "[12  8  6  5  4  3  2  1]\n",
      "[12  8  6  5  4  3  2  1]\n"
     ]
    }
   ],
   "source": [
    "def insertSortApp1(A):\n",
    "    \"\"\"\n",
    "    ##\n",
    "        Algorithm insert sort (high to low)\n",
    "        Approach 1\n",
    "    ##\n",
    "    A - input 1D array\n",
    "    \"\"\"\n",
    "    for j in np.arange(len(A)-2, -1, -1 ):\n",
    "        key = A[j]   \n",
    "        i = j + 1 \n",
    "        while (A[i] > key and i <= len(A)-1): \n",
    "            A[i-1] = A[i] \n",
    "            i = i + 1      \n",
    "            if i >=len(A)-1:\n",
    "                break;\n",
    "        A[i-1] = key # in the end this cicle operation initialise next value as key\n",
    "    return A\n",
    "\n",
    "def insertSortApp2(A):\n",
    "    \"\"\"\n",
    "    ##\n",
    "        Algorithm insert sort (high to low)\n",
    "        Approach 2\n",
    "    ##\n",
    "    A - input 1D array\n",
    "    \"\"\"\n",
    "    for j in range(1, len(A)):\n",
    "        key = A[j]   # value, which we will be replace \n",
    "        i = j - 1 # iter for compare vith previos values and shifting\n",
    "        while (i >= 0 and A[i] < key): # if previos value more key\n",
    "            A[i+1] = A[i] # next (key position) = previos value\n",
    "            i = i - 1 # and decrement iter        \n",
    "        A[i+1] = key # in the end this cicle operation initialise next value as key\n",
    "    return A\n",
    "\n",
    "\n",
    "A = np.array([5,2,12,4,8, 6,1,3])\n",
    "\n",
    "print (insertSortApp1(A))\n",
    "print (insertSortApp2(A))"
   ]
  },
  {
   "cell_type": "code",
   "execution_count": 4,
   "metadata": {
    "collapsed": false
   },
   "outputs": [
    {
     "data": {
      "text/plain": [
       "[2, 4, 5, 12]"
      ]
     },
     "execution_count": 4,
     "metadata": {},
     "output_type": "execute_result"
    }
   ],
   "source": [
    "\"\"\"\n",
    "##\n",
    "MergeSort algorithm\n",
    "##\n",
    "\"\"\"\n",
    "\n",
    "def mergesort(x):\n",
    "        \n",
    "    if len(x) == 1: # condition for exit\n",
    "        return x\n",
    "    \n",
    "    middle = (len(x) // 2)  # devide array on two part\n",
    "    \n",
    "    L = mergesort(x[:middle]) # recursive procedure`s for call mergesort\n",
    "    R = mergesort(x[middle:])\n",
    "\n",
    "    result = []\n",
    "\n",
    "    i = j = 0; # initialise index for \n",
    "\n",
    "    while i < len(L) and j < len(R):\n",
    "        if L[i] < R[j]:\n",
    "            result.append(L[i])\n",
    "            i += 1\n",
    "        else:\n",
    "            result.append(R[j])\n",
    "            j += 1\n",
    "    \n",
    "    result += L[i:]\n",
    "    result += R[j:]\n",
    "\n",
    "    return result\n",
    "\n",
    "A = [5,2,12,4]\n",
    "\n",
    "mergesort(A)"
   ]
  },
  {
   "cell_type": "code",
   "execution_count": 5,
   "metadata": {
    "collapsed": false
   },
   "outputs": [
    {
     "name": "stdout",
     "output_type": "stream",
     "text": [
      "index result: 2\n"
     ]
    }
   ],
   "source": [
    "from math import floor\n",
    "\n",
    "\"\"\"\n",
    "##\n",
    "binarySearch algorithm\n",
    "##\n",
    "\"\"\"\n",
    "\n",
    "def binarySearch(A, begin, end, valueSearch):\n",
    "    \n",
    "    middle = int(floor((begin+end)/2)) # compute middle value of array\n",
    "    \n",
    "    if A[middle] == valueSearch:\n",
    "        return middle\n",
    "    \n",
    "    elif begin==end:\n",
    "        return None\n",
    "    \n",
    "    elif A[middle] > valueSearch:\n",
    "        return binarySearch(A, begin, middle-1, valueSearch)\n",
    "    \n",
    "    else:\n",
    "        return binarySearch(A, middle+1, end, valueSearch)\n",
    "\n",
    "a = [1, 2, 3, 4, 5, 7,77]\n",
    "\n",
    "print ('index result: %d' % binarySearch(a, 0, len(a), 3))"
   ]
  }
 ],
 "metadata": {
  "anaconda-cloud": {},
  "kernelspec": {
   "display_name": "Python [conda root]",
   "language": "python",
   "name": "conda-root-py"
  },
  "language_info": {
   "codemirror_mode": {
    "name": "ipython",
    "version": 3
   },
   "file_extension": ".py",
   "mimetype": "text/x-python",
   "name": "python",
   "nbconvert_exporter": "python",
   "pygments_lexer": "ipython3",
   "version": "3.5.2"
  }
 },
 "nbformat": 4,
 "nbformat_minor": 1
}
